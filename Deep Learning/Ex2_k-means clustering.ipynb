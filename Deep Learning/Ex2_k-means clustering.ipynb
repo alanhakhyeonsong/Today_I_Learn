{
 "cells": [
  {
   "cell_type": "markdown",
   "metadata": {},
   "source": [
    "# Author\n",
    "\n",
    "Created by HakHyeon Song.\n",
    "\n",
    "Artificial Intelligence, Fall Semester, 2021."
   ]
  },
  {
   "cell_type": "markdown",
   "metadata": {},
   "source": [
    "## k-means clustering \n",
    "\n",
    "**데이터를 k개의 군집(Cluster)으로 묶는(Clusting) 알고리즘 <br>\n",
    "k는 묶을 군집(클러스터)의 개수를 의미하고 means는 평균을 의미**\n",
    "\n",
    "1. 군집의 중심 위치 선정\n",
    "2. 군집 중심을 기준으로 군집 재구성 \n",
    "3. 군집별 평균 위치 결정 \n",
    "4. 군집 평균 위치로 군집 중심 조정\n",
    "5. 수렴할 때까지 2-4 과정 반복  "
   ]
  },
  {
   "cell_type": "markdown",
   "metadata": {},
   "source": [
    "### Libraries 불러오기 ###"
   ]
  },
  {
   "cell_type": "code",
   "execution_count": 76,
   "metadata": {},
   "outputs": [],
   "source": [
    "import numpy as np\n",
    "import pandas as pd\n",
    "import matplotlib.pyplot as plt\n",
    "import seaborn as sns\n",
    "import warnings\n",
    "warnings.filterwarnings('ignore')\n",
    "import random"
   ]
  },
  {
   "cell_type": "markdown",
   "metadata": {},
   "source": [
    "### 데이터 생성 ###\n",
    "- 랜덤 데이터 생성 \n",
    "- 3개의 중심을 기준으로 정규 분포를 따르는 임의의 데이터 생성 "
   ]
  },
  {
   "cell_type": "code",
   "execution_count": 77,
   "metadata": {},
   "outputs": [
    {
     "data": {
      "text/plain": [
       "<matplotlib.collections.PathCollection at 0x13e44cde748>"
      ]
     },
     "execution_count": 77,
     "metadata": {},
     "output_type": "execute_result"
    },
    {
     "data": {
      "image/png": "[encoded data removed]",
      "text/plain": [
       "<Figure size 432x288 with 1 Axes>"
      ]
     },
     "metadata": {
      "needs_background": "light"
     },
     "output_type": "display_data"
    }
   ],
   "source": [
    "center_1 = np.array([1,1])\n",
    "center_2 = np.array([5,5])\n",
    "center_3 = np.array([8,1])\n",
    "\n",
    "data = np.random.randn(10,2) + center_1\n",
    "data = np.concatenate((data, np.random.randn(10,2) + center_2))\n",
    "data = np.concatenate((data, np.random.randn(10,2) + center_3))\n",
    "\n",
    "plt.scatter(data[:,0], data[:, 1])"
   ]
  },
  {
   "cell_type": "markdown",
   "metadata": {},
   "source": [
    "### k-means 함수 정의 ###\n",
    "1. 군집의 중심 위치 선정\n",
    "2. 군집 중심을 기준으로 군집 재구성 \n",
    "3. 군집별 평균 위치 결정 \n",
    "4. 군집 평균 위치로 군집 중심 조정\n",
    "5. 수렴할 때까지 2-4 과정 반복  "
   ]
  },
  {
   "cell_type": "code",
   "execution_count": 78,
   "metadata": {},
   "outputs": [],
   "source": [
    "## 따로 함수 없이 아래 반복문으로 해결하였습니다."
   ]
  },
  {
   "cell_type": "markdown",
   "metadata": {},
   "source": [
    "### kmeans 함수에 data 입력, k=3 ###"
   ]
  },
  {
   "cell_type": "code",
   "execution_count": 79,
   "metadata": {},
   "outputs": [
    {
     "name": "stdout",
     "output_type": "stream",
     "text": [
      "군집 중심  [[ 4.63061556  4.39089573]\n",
      " [-0.54447353  0.85134106]\n",
      " [ 8.88487936  0.81183368]]\n"
     ]
    },
    {
     "data": {
      "image/png": "[encoded data removed]",
      "text/plain": [
       "<Figure size 432x288 with 1 Axes>"
      ]
     },
     "metadata": {
      "needs_background": "light"
     },
     "output_type": "display_data"
    }
   ],
   "source": [
    "k = 3\n",
    "m = data.shape[0]\n",
    "\n",
    "mu = data[np.random.randint(0, m, k), :]\n",
    "pre_mu = mu.copy()\n",
    "print('군집 중심 ', end=' ')\n",
    "print(mu)\n",
    "\n",
    "plt.scatter(data[:,0], data[:,1])\n",
    "plt.scatter(mu[:,0],mu[:,1], marker='*', c='r', s=100)\n",
    "plt.show()"
   ]
  },
  {
   "cell_type": "code",
   "execution_count": 80,
   "metadata": {},
   "outputs": [],
   "source": [
    "y = np.empty([m,1])\n",
    "\n",
    "# K-means\n",
    "\n",
    "for _ in range(data.size):\n",
    "    for i in range(m):\n",
    "        d0 = np.linalg.norm(data[i,:] - mu[0,:], 2)\n",
    "        d1 = np.linalg.norm(data[i,:] - mu[1,:], 2)\n",
    "        d2 = np.linalg.norm(data[i,:] - mu[2,:], 2)\n",
    "        y[i] = np.argmin([d0, d1, d2])\n",
    "\n",
    "    err = 0\n",
    "    for i in range(k):\n",
    "        mu[i,:] = np.mean(data[np.where(y == i)[0]], axis = 0)\n",
    "        err += np.linalg.norm(pre_mu[i,:] - mu[i,:], 2)\n",
    "    \n",
    "    pre_mu = mu.copy()\n",
    "    \n",
    "    if err < 1e-10:\n",
    "        break"
   ]
  },
  {
   "cell_type": "code",
   "execution_count": 81,
   "metadata": {},
   "outputs": [
    {
     "data": {
      "image/png": "[encoded data removed]",
      "text/plain": [
       "<Figure size 432x288 with 1 Axes>"
      ]
     },
     "metadata": {
      "needs_background": "light"
     },
     "output_type": "display_data"
    }
   ],
   "source": [
    "x0 = data[np.where(y==0)[0]]\n",
    "x1 = data[np.where(y==1)[0]]\n",
    "x2 = data[np.where(y==2)[0]]\n",
    "\n",
    "plt.plot(x0[:,0], x0[:,1], 'b.', label='0.0')\n",
    "plt.plot(x1[:,0], x1[:,1], 'g.', label='1.0')\n",
    "plt.plot(x2[:,0], x2[:,1], 'r.', label='2.0')\n",
    "plt.legend()\n",
    "plt.scatter(mu[:,0],mu[:,1], marker='*', c='r', s=100)\n",
    "plt.show()"
   ]
  },
  {
   "cell_type": "code",
   "execution_count": null,
   "metadata": {},
   "outputs": [],
   "source": []
  }
 ],
 "metadata": {
  "kernelspec": {
   "display_name": "Python 3",
   "language": "python",
   "name": "python3"
  },
  "language_info": {
   "codemirror_mode": {
    "name": "ipython",
    "version": 3
   },
   "file_extension": ".py",
   "mimetype": "text/x-python",
   "name": "python",
   "nbconvert_exporter": "python",
   "pygments_lexer": "ipython3",
   "version": "3.7.3"
  }
 },
 "nbformat": 4,
 "nbformat_minor": 5
}
